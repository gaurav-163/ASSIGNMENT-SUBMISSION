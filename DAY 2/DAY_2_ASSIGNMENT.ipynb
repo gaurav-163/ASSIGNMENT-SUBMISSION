{
  "nbformat": 4,
  "nbformat_minor": 0,
  "metadata": {
    "colab": {
      "name": "DAY 2 ASSIGNMENT.ipynb",
      "provenance": [],
      "collapsed_sections": []
    },
    "kernelspec": {
      "name": "python3",
      "display_name": "Python 3"
    },
    "language_info": {
      "name": "python"
    }
  },
  "cells": [
    {
      "cell_type": "code",
      "metadata": {
        "id": "rAYaEyYuq0CV"
      },
      "source": [
        "#DAY 2 ASSIGNMENT\n",
        "#GAURAV CHAUDHARI"
      ],
      "execution_count": null,
      "outputs": []
    },
    {
      "cell_type": "code",
      "metadata": {
        "id": "kNU6VBtfqqyq"
      },
      "source": [
        "import numpy as np"
      ],
      "execution_count": 4,
      "outputs": []
    },
    {
      "cell_type": "code",
      "metadata": {
        "colab": {
          "base_uri": "https://localhost:8080/"
        },
        "id": "QmJL7IdtqzaC",
        "outputId": "6c7b0fb3-0d52-4229-b5d1-eb6aeaf0e1db"
      },
      "source": [
        "List1 = [1,2,3,4,5]\n",
        "List2 = [2,3,4,5,6]\n",
        "List3 = [4,5,6,7,8]\n",
        "\n",
        "arr1 = np.array([List1,List2,List3])\n",
        "arr1"
      ],
      "execution_count": 5,
      "outputs": [
        {
          "output_type": "execute_result",
          "data": {
            "text/plain": [
              "array([[1, 2, 3, 4, 5],\n",
              "       [2, 3, 4, 5, 6],\n",
              "       [4, 5, 6, 7, 8]])"
            ]
          },
          "metadata": {},
          "execution_count": 5
        }
      ]
    },
    {
      "cell_type": "code",
      "metadata": {
        "id": "nNQX8kgnrENA",
        "colab": {
          "base_uri": "https://localhost:8080/"
        },
        "outputId": "662dcc2e-374a-472d-afe2-43a4001138ca"
      },
      "source": [
        "arr1[1:3,1:3]"
      ],
      "execution_count": 13,
      "outputs": [
        {
          "output_type": "execute_result",
          "data": {
            "text/plain": [
              "array([[3, 4],\n",
              "       [5, 6]])"
            ]
          },
          "metadata": {},
          "execution_count": 13
        }
      ]
    },
    {
      "cell_type": "code",
      "metadata": {
        "id": "ilLRmUVDzKsq"
      },
      "source": [
        ""
      ],
      "execution_count": null,
      "outputs": []
    }
  ]
}